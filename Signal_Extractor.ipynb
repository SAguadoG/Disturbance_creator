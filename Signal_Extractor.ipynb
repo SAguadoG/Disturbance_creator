{
 "cells": [
  {
   "metadata": {},
   "cell_type": "markdown",
   "source": "# Extractor de señales",
   "id": "9f25e5df796ee8c0"
  },
  {
   "metadata": {},
   "cell_type": "markdown",
   "source": [
    "Se cargan tres librerías básicas\n",
    "- **os**, para el manejo de los archivos entre carpetas, camnbios en las rutas etc...\n",
    "- **numpy** y **sicpy**, para las funciones internas que se necesiten."
   ],
   "id": "d85f46fc7a588142"
  },
  {
   "metadata": {},
   "cell_type": "code",
   "outputs": [],
   "execution_count": null,
   "source": [
    "import os\n",
    "import numpy as np\n",
    "import scipy.io"
   ],
   "id": "80bfbda76f2e28f1"
  },
  {
   "metadata": {},
   "cell_type": "markdown",
   "source": "Se establece un extractor del parámetro 'signal' de las señales eléctricas extraidas desde la base de datos.",
   "id": "8d694053af284090"
  },
  {
   "metadata": {},
   "cell_type": "code",
   "outputs": [],
   "execution_count": null,
   "source": [
    "def extraer_vector(ruta_archivo):\n",
    "    data = scipy.io.loadmat(ruta_archivo)\n",
    "    signal = data['signal']\n",
    "    return signal.flatten()"
   ],
   "id": "376be607a98db9fe"
  },
  {
   "metadata": {},
   "cell_type": "markdown",
   "source": [
    "Se ha descargado una hora revisada sin PQDs\n",
    "Se han generado iteraciones para hacer un barrido.\n",
    "\n",
    "- Minuto (0-59 s)\n",
    "- Segundo (0-59 s)\n",
    "- Decimal (0-9 s)\n",
    "\n",
    "Se tiene en cuenta el decimal porque dependiendo de la hora es posible que haya una variación de ese valor, dando un error en la búsqueda."
   ],
   "id": "ec25b5e2589f7ade"
  },
  {
   "metadata": {},
   "cell_type": "code",
   "outputs": [],
   "execution_count": null,
   "source": [
    "def buscar_archivo(year, mes, dia, hora):\n",
    "    directorio_actual = os.path.abspath(os.path.dirname(__file__))\n",
    "    archivos_encontrados = []\n",
    "\n",
    "    for minuto in range(60):\n",
    "        for segundo in range(60):\n",
    "            for fraccion in range(10):\n",
    "                nombre_archivo = f\"{year}_{mes}_{dia}_{hora}_{minuto}_{segundo}.{fraccion}_lab_politecnica_3a.mat\"\n",
    "                ruta_archivo = os.path.join(directorio_actual, 'raw_signals', nombre_archivo)\n",
    "                if os.path.exists(ruta_archivo):\n",
    "                    archivos_encontrados.append(ruta_archivo)\n",
    "\n",
    "    return archivos_encontrados\n",
    "\n",
    "\n",
    "def guardar_vector(vector, contador):\n",
    "    directorio_destino = os.path.join(os.path.dirname(__file__), 'original_signal')\n",
    "    os.makedirs(directorio_destino, exist_ok=True)\n",
    "    nombre_archivo = f\"or_s_{contador}.npy\"\n",
    "    ruta_archivo_nuevo = os.path.join(directorio_destino, nombre_archivo)\n",
    "    np.save(ruta_archivo_nuevo, vector)\n",
    "    print(f\"Vector extraído y guardado en {nombre_archivo}\")\n",
    "\n",
    "\n",
    "def obtener_fecha():\n",
    "    # Tal cual del programa principal, 0 cambios.\n",
    "    year = input(\"Ingrese el año: \")\n",
    "    mes = input(\"Ingrese el mes: \")\n",
    "    dia = input(\"Ingrese el día: \")\n",
    "    hora = input(\"Ingrese la hora: \")\n",
    "\n",
    "    # Dar los datos que tengamos seguro.\n",
    "    archivos = buscar_archivo(year, mes, dia, hora)\n",
    "\n",
    "    # Creacion del nuevo .npy\n",
    "    contador = 1\n",
    "    for ruta_archivo in archivos:\n",
    "        vector = extraer_vector(ruta_archivo)\n",
    "        guardar_vector(vector, contador)\n",
    "        contador += 1\n",
    "\n",
    "    # Mostrar mensaje si no se encontraron archivos\n",
    "    if not archivos:\n",
    "        print(f\"No se encontraron archivos para la fecha proporcionada.\")\n",
    "\n",
    "    # flag para mi, por si va mal la iteración.\n",
    "    print(\"Se termina de buscar\")\n",
    "\n",
    "\n",
    "# Llamada a la función principal\n",
    "if __name__ == \"__main__\":\n",
    "    obtener_fecha()"
   ],
   "id": "792dddc16b12cd0e"
  }
 ],
 "metadata": {
  "kernelspec": {
   "display_name": "Python 3",
   "language": "python",
   "name": "python3"
  },
  "language_info": {
   "codemirror_mode": {
    "name": "ipython",
    "version": 2
   },
   "file_extension": ".py",
   "mimetype": "text/x-python",
   "name": "python",
   "nbconvert_exporter": "python",
   "pygments_lexer": "ipython2",
   "version": "2.7.6"
  }
 },
 "nbformat": 4,
 "nbformat_minor": 5
}
