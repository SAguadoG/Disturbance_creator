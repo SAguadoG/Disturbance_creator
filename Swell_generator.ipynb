{
 "cells": [
  {
   "cell_type": "code",
   "execution_count": null,
   "id": "initial_id",
   "metadata": {
    "collapsed": true
   },
   "outputs": [],
   "source": [
    "import os\n",
    "import numpy as np\n",
    "\n",
    "# Obtener el directorio actual del script\n",
    "directorio_actual = os.path.abspath(os.path.dirname(__file__))\n",
    "\n",
    "\n",
    "def swell_generator():\n",
    "    for i in range(3601):\n",
    "        nombre_archivo = f\"or_s_{i}.npy\"\n",
    "        ruta_archivo = os.path.join(directorio_actual, 'original_signals', nombre_archivo)\n",
    "\n",
    "        if os.path.exists(ruta_archivo):\n",
    "            print(f\"Se encontró el archivo {nombre_archivo}\")\n",
    "            # Cargar los datos desde el archivo .npy\n",
    "            data = np.load(ruta_archivo)\n",
    "            # Normalizar la señal al rango [-1, 1]\n",
    "            signal_original = data / np.sqrt(np.mean(data**2))\n",
    "\n",
    "            # Parámetros de la amplificación aleatoria\n",
    "            longitud_signal = len(signal_original)\n",
    "            duracion_amplificacion = 3000  # en muestras (0.3 segundos a una tasa de muestreo de 10,000 Hz)\n",
    "            factor_amplitud_min = 1.2\n",
    "            factor_amplitud_max = 1.7\n",
    "\n",
    "            # Generar la posición aleatoria para la amplificación\n",
    "            inicio_amplificacion = np.random.randint(0, longitud_signal - duracion_amplificacion)\n",
    "\n",
    "            # Generar el factor de amplificación aleatorio\n",
    "            factor_amplitud = np.random.uniform(factor_amplitud_min, factor_amplitud_max)\n",
    "\n",
    "            # Aplicar la amplificación en la parte aleatoria de la señal original\n",
    "            signal_amplificada = np.copy(signal_original)\n",
    "            signal_amplificada[inicio_amplificacion:(inicio_amplificacion + duracion_amplificacion)] *= factor_amplitud\n",
    "\n",
    "            # Implementar la forma de onda del Swell (simétrica)\n",
    "            angulo_rampa = np.pi / 2  # Pendiente de la rampa (45 grados)\n",
    "            rampa_arriba = np.linspace(0, 1, duracion_amplificacion // 2)\n",
    "            rampa_abajo = np.linspace(1, 0, duracion_amplificacion // 2)\n",
    "            senal_swell = np.concatenate((rampa_arriba, rampa_abajo))\n",
    "            senal_swell = np.repeat(senal_swell, repeats=int(np.ceil(len(signal_amplificada) / len(senal_swell))))\n",
    "\n",
    "            # Aplicar la forma de onda del Swell a la señal amplificada\n",
    "            signal_con_swell = signal_amplificada * senal_swell\n",
    "\n",
    "            # Guardar la señal con Swell en un nuevo archivo\n",
    "            directorio_destino = os.path.join(directorio_actual, 'swell_signals')\n",
    "            os.makedirs(directorio_destino, exist_ok=True)\n",
    "            nombre_archivo_nuevo = f\"sw_s_{i}.npy\"\n",
    "            ruta_archivo_nuevo = os.path.join(directorio_destino, nombre_archivo_nuevo)\n",
    "            np.save(ruta_archivo_nuevo, signal_con_swell)\n",
    "            print(f\"Señal con Swell guardada en {nombre_archivo_nuevo}\")\n",
    "        else:\n",
    "            print(f\"No se encontró el archivo {nombre_archivo}\")\n",
    "\n",
    "\n",
    "swell_generator()\n"
   ]
  }
 ],
 "metadata": {
  "kernelspec": {
   "display_name": "Python 3",
   "language": "python",
   "name": "python3"
  },
  "language_info": {
   "codemirror_mode": {
    "name": "ipython",
    "version": 2
   },
   "file_extension": ".py",
   "mimetype": "text/x-python",
   "name": "python",
   "nbconvert_exporter": "python",
   "pygments_lexer": "ipython2",
   "version": "2.7.6"
  }
 },
 "nbformat": 4,
 "nbformat_minor": 5
}
