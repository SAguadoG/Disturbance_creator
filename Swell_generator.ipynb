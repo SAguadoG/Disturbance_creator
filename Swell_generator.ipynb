{
 "cells": [
  {
   "metadata": {},
   "cell_type": "markdown",
   "source": "# Swell Generator",
   "id": "116efcb71028e4f1"
  },
  {
   "metadata": {},
   "cell_type": "markdown",
   "source": [
    "Como tenemos una señal ya en archivos de Python, solo vamos a necesitar instalar dos librerías.\n",
    "- *Os* para trabajar entre carpetas\n",
    "- *Numpy* para operar las señales.\n",
    "- *Matplotlib* para graficar las señales al final"
   ],
   "id": "f7a3cbfd6c1c3b03"
  },
  {
   "cell_type": "code",
   "id": "77605dd09a1f76d5",
   "metadata": {
    "collapsed": true,
    "ExecuteTime": {
     "end_time": "2024-11-19T22:01:48.888220Z",
     "start_time": "2024-11-19T22:01:48.701163Z"
    }
   },
   "source": [
    "import os\n",
    "import numpy as np\n",
    "import matplotlib.pyplot as plt"
   ],
   "outputs": [],
   "execution_count": 1
  },
  {
   "metadata": {},
   "cell_type": "markdown",
   "source": [
    "En este script, solo tenemos una sola función \"swell_generator\".\n",
    "- Primero hacemos una iteración de todos los archivos de la carpeta que se generó en el script \"Signal_Extractor.ipynb\".\n",
    "- Si la ruta es correcta, debería encontrae el archivo, una vez que se encuentra el archivo, para operar se manera más sencilla, se trabajan con señales normalizadas. En este caso se usará la normalizada por el RMS.\n",
    "- Después simplemente se define el factor de amplitud de la señal, como es un swell, tendrá que ser mayor que la señal nominal en un período de tiempo, los valores están definidos en la norma IEEE 1159.\n",
    "- ![](https://figures.semanticscholar.org/308ec64d75779240f7fcdcdb8a7787098c605edd/1-TableI-1.png)\n",
    "\n",
    "- Se elimina el print del final para no generar los 3600 datos en pantalla.\n",
    "- Respecto a los límites, para poder trabajar dentro de la normal, tenemos que tener un rango de amplificación de entre 0.5 ciclos (0.01 segundo o 100 muestras) a 30 ciclos (0.6 s o 6000 muestras) y los factores de amplitud son de 1.1 a 1.8."
   ],
   "id": "d073c86ac196040f"
  },
  {
   "metadata": {
    "ExecuteTime": {
     "end_time": "2024-11-19T22:01:49.519983Z",
     "start_time": "2024-11-19T22:01:48.889309Z"
    }
   },
   "cell_type": "code",
   "source": [
    "\n",
    "# Obtener el directorio actual del script\n",
    "# directorio_actual = os.path.abspath(os.path.dirname(__file__)) Funcionaba cuando era un archivo '.py'\n",
    "directorio_actual = os.path.dirname(os.path.abspath('disturbance_creator'))\n",
    "directorio_destino = os.path.join(directorio_actual, 'swell_signals')\n",
    "\n",
    "# Creamos todas las carpetas antes de iniciar el bucle.\n",
    "\n",
    "os.makedirs(directorio_destino, exist_ok=True)\n",
    "os.makedirs(os.path.join('swell_signals', 'test'), exist_ok=True)\n",
    "os.makedirs(os.path.join('swell_signals', 'train'), exist_ok=True)\n",
    "os.makedirs(os.path.join('swell_signals', 'val'), exist_ok=True)\n",
    "\n",
    "def swell_generator():\n",
    "    for i in range(3601):\n",
    "        nombre_archivo = f\"or_s_{i}.npy\"\n",
    "        ruta_archivo = os.path.join(directorio_actual, 'original_signal', nombre_archivo)\n",
    "\n",
    "        if os.path.exists(ruta_archivo):\n",
    "            # print(f\"Se encontró el archivo {nombre_archivo}\")\n",
    "            # Cargar los datos desde el archivo .npy\n",
    "            data = np.load(ruta_archivo)\n",
    "            # Normalizar la señal al rango [-1, 1]\n",
    "            signal_original = data / np.sqrt(np.mean(data**2))\n",
    "\n",
    "            # Parámetros de la amplificación aleatoria\n",
    "            longitud_signal = len(signal_original)\n",
    "            duracion_amplificacion_min = 100  # en muestras (0.01 segundos a una tasa de muestreo de 10,000 Hz)\n",
    "            duracion_amplificacion_max = 6000  # en muestras (0.6 segundos a una tasa de muestreo de 10,000 Hz)\n",
    "            factor_amplitud_min = 1.1\n",
    "            factor_amplitud_max = 1.8\n",
    "            \n",
    "            # Generar una duración aleatoria de la reducción de amplitud\n",
    "            duracion_amplificacion = np.random.randint(duracion_amplificacion_min , duracion_amplificacion_max)\n",
    "\n",
    "            # Generar la posición aleatoria para la reducción de amplitud\n",
    "            inicio_amplificacion = np.random.randint(0, longitud_signal - duracion_amplificacion)\n",
    "\n",
    "            # Generar el factor de amplificación aleatorio\n",
    "            factor_amplitud = np.random.uniform(factor_amplitud_min, factor_amplitud_max)\n",
    "\n",
    "            # Aplicar la amplificación en la parte aleatoria de la señal original\n",
    "            signal_amplificada = np.copy(signal_original)\n",
    "            signal_amplificada[inicio_amplificacion:(inicio_amplificacion + duracion_amplificacion)] *= factor_amplitud\n",
    "\n",
    "            # Guardar la señal amplificada en un nuevo archivo   \n",
    "            \n",
    "            if i < 2521:\n",
    "                directorio_destino_final = os.path.join(directorio_destino, 'train')\n",
    "            elif i < 3061:\n",
    "                directorio_destino_final = os.path.join(directorio_destino, 'test')\n",
    "            elif i < 3601:\n",
    "                directorio_destino_final = os.path.join(directorio_destino, 'val')\n",
    "            else:\n",
    "                print(f\"No se encontró el archivo {nombre_archivo}\")\n",
    "                \n",
    "            nombre_archivo_nuevo = f\"sw_s_{i}.npy\"\n",
    "            ruta_archivo_nuevo = os.path.join(directorio_destino_final, nombre_archivo_nuevo)\n",
    "            np.save(ruta_archivo_nuevo, signal_amplificada)\n",
    "            #print(f\"Señal amplificada guardada en {nombre_archivo_nuevo}\")\n",
    "        #else:\n",
    "            #print(f\"No se encontró el archivo {nombre_archivo}\")\n",
    "\n",
    "\n",
    "swell_generator()\n"
   ],
   "id": "initial_id",
   "outputs": [],
   "execution_count": 2
  },
  {
   "metadata": {},
   "cell_type": "markdown",
   "source": "Al igual que en *'Signal_Extractor.ipynb'* se genera aleatoriamente una represetación de una señal para saber si ha funcionado.",
   "id": "82fea2d0669677df"
  },
  {
   "metadata": {
    "ExecuteTime": {
     "end_time": "2024-11-19T22:01:49.650471Z",
     "start_time": "2024-11-19T22:01:49.520543Z"
    }
   },
   "cell_type": "code",
   "source": [
    "# Generar un número aleatorio entre 1 y 3600 para seleccionar el archivo\n",
    "import random\n",
    "\n",
    "archivo_numero = random.randint(1, 3600)\n",
    "archivo_path = os.path.join(os.getcwd(), 'swell_signals', f'sw_s_{archivo_numero}.npy')\n",
    "\n",
    "# Cargar el archivo completo\n",
    "signal_data = np.load(archivo_path)\n",
    "\n",
    "# Graficar todos los datos de la señal\n",
    "plt.figure(figsize=(12, 6))\n",
    "plt.plot(signal_data, color='b', linestyle='-', linewidth=0.8, label='Amplitud en el tiempo')\n",
    "plt.title(f\"Representación completa de la señal - Archivo sw_s_{archivo_numero}.npy\")\n",
    "plt.xlabel(\"1s (10.000 muestras\")\n",
    "plt.ylabel(\"Amplitud\")\n",
    "plt.legend()\n",
    "plt.grid(True)\n",
    "plt.show()"
   ],
   "id": "9d813e4dc642bb78",
   "outputs": [
    {
     "ename": "FileNotFoundError",
     "evalue": "[Errno 2] No such file or directory: '/Users/saguadog/Documents/Disturbance_creator/swell_signals/sw_s_639.npy'",
     "output_type": "error",
     "traceback": [
      "\u001B[0;31m---------------------------------------------------------------------------\u001B[0m",
      "\u001B[0;31mFileNotFoundError\u001B[0m                         Traceback (most recent call last)",
      "Cell \u001B[0;32mIn[3], line 8\u001B[0m\n\u001B[1;32m      5\u001B[0m archivo_path \u001B[38;5;241m=\u001B[39m os\u001B[38;5;241m.\u001B[39mpath\u001B[38;5;241m.\u001B[39mjoin(os\u001B[38;5;241m.\u001B[39mgetcwd(), \u001B[38;5;124m'\u001B[39m\u001B[38;5;124mswell_signals\u001B[39m\u001B[38;5;124m'\u001B[39m, \u001B[38;5;124mf\u001B[39m\u001B[38;5;124m'\u001B[39m\u001B[38;5;124msw_s_\u001B[39m\u001B[38;5;132;01m{\u001B[39;00marchivo_numero\u001B[38;5;132;01m}\u001B[39;00m\u001B[38;5;124m.npy\u001B[39m\u001B[38;5;124m'\u001B[39m)\n\u001B[1;32m      7\u001B[0m \u001B[38;5;66;03m# Cargar el archivo completo\u001B[39;00m\n\u001B[0;32m----> 8\u001B[0m signal_data \u001B[38;5;241m=\u001B[39m \u001B[43mnp\u001B[49m\u001B[38;5;241;43m.\u001B[39;49m\u001B[43mload\u001B[49m\u001B[43m(\u001B[49m\u001B[43marchivo_path\u001B[49m\u001B[43m)\u001B[49m\n\u001B[1;32m     10\u001B[0m \u001B[38;5;66;03m# Graficar todos los datos de la señal\u001B[39;00m\n\u001B[1;32m     11\u001B[0m plt\u001B[38;5;241m.\u001B[39mfigure(figsize\u001B[38;5;241m=\u001B[39m(\u001B[38;5;241m12\u001B[39m, \u001B[38;5;241m6\u001B[39m))\n",
      "File \u001B[0;32m~/Documents/Disturbance_creator/.venv/lib/python3.11/site-packages/numpy/lib/_npyio_impl.py:459\u001B[0m, in \u001B[0;36mload\u001B[0;34m(file, mmap_mode, allow_pickle, fix_imports, encoding, max_header_size)\u001B[0m\n\u001B[1;32m    457\u001B[0m     own_fid \u001B[38;5;241m=\u001B[39m \u001B[38;5;28;01mFalse\u001B[39;00m\n\u001B[1;32m    458\u001B[0m \u001B[38;5;28;01melse\u001B[39;00m:\n\u001B[0;32m--> 459\u001B[0m     fid \u001B[38;5;241m=\u001B[39m stack\u001B[38;5;241m.\u001B[39menter_context(\u001B[38;5;28mopen\u001B[39m(os\u001B[38;5;241m.\u001B[39mfspath(file), \u001B[38;5;124m\"\u001B[39m\u001B[38;5;124mrb\u001B[39m\u001B[38;5;124m\"\u001B[39m))\n\u001B[1;32m    460\u001B[0m     own_fid \u001B[38;5;241m=\u001B[39m \u001B[38;5;28;01mTrue\u001B[39;00m\n\u001B[1;32m    462\u001B[0m \u001B[38;5;66;03m# Code to distinguish from NumPy binary files and pickles.\u001B[39;00m\n",
      "\u001B[0;31mFileNotFoundError\u001B[0m: [Errno 2] No such file or directory: '/Users/saguadog/Documents/Disturbance_creator/swell_signals/sw_s_639.npy'"
     ]
    }
   ],
   "execution_count": 3
  }
 ],
 "metadata": {
  "kernelspec": {
   "display_name": "Python 3",
   "language": "python",
   "name": "python3"
  },
  "language_info": {
   "codemirror_mode": {
    "name": "ipython",
    "version": 2
   },
   "file_extension": ".py",
   "mimetype": "text/x-python",
   "name": "python",
   "nbconvert_exporter": "python",
   "pygments_lexer": "ipython2",
   "version": "2.7.6"
  }
 },
 "nbformat": 4,
 "nbformat_minor": 5
}
